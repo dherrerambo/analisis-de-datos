{
 "cells": [
  {
   "cell_type": "markdown",
   "metadata": {},
   "source": [
    "# 3 Reto: El cambio climatico, en datos y graficos."
   ]
  },
  {
   "cell_type": "markdown",
   "metadata": {},
   "source": [
    "---"
   ]
  },
  {
   "cell_type": "markdown",
   "metadata": {},
   "source": [
    "En la pagina: https://www.epdata.es/datos/cambio-climatico-datos-graficos/447?accion=2, se recoge en datos y graficos algunas de las tendencias sobre las que vienen advirtiendo organismos internacionales y estudios cientificos en relacion a temas relacionados con el cambio climatico como el aumento de la temperatura global, las emisiones de gases de efecto invernadero, los desplazamientos relacionados con eventos climaticos extremos o el aumento del nivel del mar. Lo que queremos es ir a esa pagina y reproducir algunos de los graficos y calculos que aparecen alli usando pandas."
   ]
  },
  {
   "cell_type": "code",
   "execution_count": 1,
   "metadata": {},
   "outputs": [],
   "source": [
    "import pandas as pd"
   ]
  },
  {
   "cell_type": "code",
   "execution_count": 2,
   "metadata": {},
   "outputs": [
    {
     "data": {
      "text/html": [
       "<div>\n",
       "<style scoped>\n",
       "    .dataframe tbody tr th:only-of-type {\n",
       "        vertical-align: middle;\n",
       "    }\n",
       "\n",
       "    .dataframe tbody tr th {\n",
       "        vertical-align: top;\n",
       "    }\n",
       "\n",
       "    .dataframe thead th {\n",
       "        text-align: right;\n",
       "    }\n",
       "</style>\n",
       "<table border=\"1\" class=\"dataframe\">\n",
       "  <thead>\n",
       "    <tr style=\"text-align: right;\">\n",
       "      <th></th>\n",
       "      <th>Año</th>\n",
       "      <th>Periodo</th>\n",
       "      <th>Parámetro</th>\n",
       "      <th>Índice de riesgo climático (2000-2019)</th>\n",
       "    </tr>\n",
       "  </thead>\n",
       "  <tbody>\n",
       "    <tr>\n",
       "      <th>0</th>\n",
       "      <td>2019</td>\n",
       "      <td>Año</td>\n",
       "      <td>Afganistán</td>\n",
       "      <td>37,83</td>\n",
       "    </tr>\n",
       "    <tr>\n",
       "      <th>1</th>\n",
       "      <td>2019</td>\n",
       "      <td>Año</td>\n",
       "      <td>Albania</td>\n",
       "      <td>113,5</td>\n",
       "    </tr>\n",
       "    <tr>\n",
       "      <th>2</th>\n",
       "      <td>2019</td>\n",
       "      <td>Año</td>\n",
       "      <td>Alemania</td>\n",
       "      <td>38,17</td>\n",
       "    </tr>\n",
       "    <tr>\n",
       "      <th>3</th>\n",
       "      <td>2019</td>\n",
       "      <td>Año</td>\n",
       "      <td>Angola</td>\n",
       "      <td>84</td>\n",
       "    </tr>\n",
       "    <tr>\n",
       "      <th>4</th>\n",
       "      <td>2019</td>\n",
       "      <td>Año</td>\n",
       "      <td>Antigua y Barbuda</td>\n",
       "      <td>64,5</td>\n",
       "    </tr>\n",
       "  </tbody>\n",
       "</table>\n",
       "</div>"
      ],
      "text/plain": [
       "    Año Periodo          Parámetro Índice de riesgo climático (2000-2019)\n",
       "0  2019     Año         Afganistán                                  37,83\n",
       "1  2019     Año            Albania                                  113,5\n",
       "2  2019     Año           Alemania                                  38,17\n",
       "3  2019     Año             Angola                                     84\n",
       "4  2019     Año  Antigua y Barbuda                                   64,5"
      ]
     },
     "execution_count": 2,
     "metadata": {},
     "output_type": "execute_result"
    }
   ],
   "source": [
    "data = pd.read_csv('data/paises_del_mundo_segun_riesgo_climatico.csv',sep=\";\")\n",
    "data.head()"
   ]
  },
  {
   "cell_type": "code",
   "execution_count": 3,
   "metadata": {},
   "outputs": [
    {
     "data": {
      "text/plain": [
       "2019                                                                                                                                                                                                                       161\n",
       "Métrica:\"Índice de riesgo climático (2000-2019)\"                                                                                                                                                                             1\n",
       "Fuente:\"Germanwatch y Munich Re NatCatSERVICE\"                                                                                                                                                                               1\n",
       "Clasificación:\"\"                                                                                                                                                                                                             1\n",
       "Unidad:\"Índice\"                                                                                                                                                                                                              1\n",
       "Escala:\"Unidades\"                                                                                                                                                                                                            1\n",
       "EscalaFactorPotencia10:\"0\"                                                                                                                                                                                                   1\n",
       "SonDatosNumericos:\"True\"                                                                                                                                                                                                     1\n",
       "Url:\"https://www.epdata.es/paises-mundo-riesgo-climatico/2417cb2e-59dd-400c-9f4e-cc0b846e31f2\"                                                                                                                               1\n",
       "Titulo:\"Países del mundo según riesgo climático\"                                                                                                                                                                             1\n",
       "Subtitulo:\"El índice de riesgo climático mide los países y las regiones afectados por pérdidas  relacionadas con el clima (tormentas, inundaciones, olas de calor, etc.) siendo el más bajo el que indica mayor riesgo\"      1\n",
       "Name: Año, dtype: int64"
      ]
     },
     "execution_count": 3,
     "metadata": {},
     "output_type": "execute_result"
    }
   ],
   "source": [
    "data['Año'].value_counts()"
   ]
  },
  {
   "cell_type": "code",
   "execution_count": 4,
   "metadata": {},
   "outputs": [
    {
     "name": "stdout",
     "output_type": "stream",
     "text": [
      "Año                                        object\n",
      "Periodo                                    object\n",
      "Parámetro                                  object\n",
      "Índice de riesgo climático (2000-2019)    float64\n",
      "dtype: object\n"
     ]
    },
    {
     "data": {
      "text/html": [
       "<div>\n",
       "<style scoped>\n",
       "    .dataframe tbody tr th:only-of-type {\n",
       "        vertical-align: middle;\n",
       "    }\n",
       "\n",
       "    .dataframe tbody tr th {\n",
       "        vertical-align: top;\n",
       "    }\n",
       "\n",
       "    .dataframe thead th {\n",
       "        text-align: right;\n",
       "    }\n",
       "</style>\n",
       "<table border=\"1\" class=\"dataframe\">\n",
       "  <thead>\n",
       "    <tr style=\"text-align: right;\">\n",
       "      <th></th>\n",
       "      <th>Año</th>\n",
       "      <th>Periodo</th>\n",
       "      <th>Parámetro</th>\n",
       "      <th>Índice de riesgo climático (2000-2019)</th>\n",
       "    </tr>\n",
       "  </thead>\n",
       "  <tbody>\n",
       "    <tr>\n",
       "      <th>0</th>\n",
       "      <td>2019</td>\n",
       "      <td>Año</td>\n",
       "      <td>Afganistán</td>\n",
       "      <td>37.83</td>\n",
       "    </tr>\n",
       "    <tr>\n",
       "      <th>1</th>\n",
       "      <td>2019</td>\n",
       "      <td>Año</td>\n",
       "      <td>Albania</td>\n",
       "      <td>113.50</td>\n",
       "    </tr>\n",
       "    <tr>\n",
       "      <th>2</th>\n",
       "      <td>2019</td>\n",
       "      <td>Año</td>\n",
       "      <td>Alemania</td>\n",
       "      <td>38.17</td>\n",
       "    </tr>\n",
       "    <tr>\n",
       "      <th>3</th>\n",
       "      <td>2019</td>\n",
       "      <td>Año</td>\n",
       "      <td>Angola</td>\n",
       "      <td>84.00</td>\n",
       "    </tr>\n",
       "    <tr>\n",
       "      <th>4</th>\n",
       "      <td>2019</td>\n",
       "      <td>Año</td>\n",
       "      <td>Antigua y Barbuda</td>\n",
       "      <td>64.50</td>\n",
       "    </tr>\n",
       "  </tbody>\n",
       "</table>\n",
       "</div>"
      ],
      "text/plain": [
       "    Año Periodo          Parámetro  Índice de riesgo climático (2000-2019)\n",
       "0  2019     Año         Afganistán                                   37.83\n",
       "1  2019     Año            Albania                                  113.50\n",
       "2  2019     Año           Alemania                                   38.17\n",
       "3  2019     Año             Angola                                   84.00\n",
       "4  2019     Año  Antigua y Barbuda                                   64.50"
      ]
     },
     "execution_count": 4,
     "metadata": {},
     "output_type": "execute_result"
    }
   ],
   "source": [
    "# clean data\n",
    "data = data[pd.to_numeric(data['Año'], errors='coerce').isnull()==False].reset_index(drop=True)\n",
    "data['Índice de riesgo climático (2000-2019)'] = pd.to_numeric(data['Índice de riesgo climático (2000-2019)'].str.replace(',','.'))\n",
    "print(data.dtypes)\n",
    "data.head()"
   ]
  },
  {
   "cell_type": "code",
   "execution_count": 5,
   "metadata": {},
   "outputs": [
    {
     "data": {
      "image/png": "[encoded data removed]",
      "text/plain": [
       "<Figure size 432x288 with 1 Axes>"
      ]
     },
     "metadata": {
      "needs_background": "light"
     },
     "output_type": "display_data"
    }
   ],
   "source": [
    "data[['Parámetro','Índice de riesgo climático (2000-2019)']].plot.hist();"
   ]
  },
  {
   "cell_type": "code",
   "execution_count": 6,
   "metadata": {},
   "outputs": [
    {
     "data": {
      "text/html": [
       "<div>\n",
       "<style scoped>\n",
       "    .dataframe tbody tr th:only-of-type {\n",
       "        vertical-align: middle;\n",
       "    }\n",
       "\n",
       "    .dataframe tbody tr th {\n",
       "        vertical-align: top;\n",
       "    }\n",
       "\n",
       "    .dataframe thead th {\n",
       "        text-align: right;\n",
       "    }\n",
       "</style>\n",
       "<table border=\"1\" class=\"dataframe\">\n",
       "  <thead>\n",
       "    <tr style=\"text-align: right;\">\n",
       "      <th></th>\n",
       "      <th>Índice de riesgo climático (2000-2019)</th>\n",
       "    </tr>\n",
       "  </thead>\n",
       "  <tbody>\n",
       "    <tr>\n",
       "      <th>count</th>\n",
       "      <td>161.000000</td>\n",
       "    </tr>\n",
       "    <tr>\n",
       "      <th>mean</th>\n",
       "      <td>89.626025</td>\n",
       "    </tr>\n",
       "    <tr>\n",
       "      <th>std</th>\n",
       "      <td>41.427108</td>\n",
       "    </tr>\n",
       "    <tr>\n",
       "      <th>min</th>\n",
       "      <td>7.170000</td>\n",
       "    </tr>\n",
       "    <tr>\n",
       "      <th>25%</th>\n",
       "      <td>57.670000</td>\n",
       "    </tr>\n",
       "    <tr>\n",
       "      <th>50%</th>\n",
       "      <td>84.330000</td>\n",
       "    </tr>\n",
       "    <tr>\n",
       "      <th>75%</th>\n",
       "      <td>118.830000</td>\n",
       "    </tr>\n",
       "    <tr>\n",
       "      <th>max</th>\n",
       "      <td>173.670000</td>\n",
       "    </tr>\n",
       "  </tbody>\n",
       "</table>\n",
       "</div>"
      ],
      "text/plain": [
       "       Índice de riesgo climático (2000-2019)\n",
       "count                              161.000000\n",
       "mean                                89.626025\n",
       "std                                 41.427108\n",
       "min                                  7.170000\n",
       "25%                                 57.670000\n",
       "50%                                 84.330000\n",
       "75%                                118.830000\n",
       "max                                173.670000"
      ]
     },
     "execution_count": 6,
     "metadata": {},
     "output_type": "execute_result"
    }
   ],
   "source": [
    "data.describe()"
   ]
  },
  {
   "cell_type": "code",
   "execution_count": null,
   "metadata": {},
   "outputs": [],
   "source": []
  }
 ],
 "metadata": {
  "interpreter": {
   "hash": "a7d9b4020407e9a5c7264449464d934ff5c5da758a1b12d2b58037603fa1901d"
  },
  "kernelspec": {
   "display_name": "Python 3.9.9 64-bit",
   "language": "python",
   "name": "python3"
  },
  "language_info": {
   "codemirror_mode": {
    "name": "ipython",
    "version": 3
   },
   "file_extension": ".py",
   "mimetype": "text/x-python",
   "name": "python",
   "nbconvert_exporter": "python",
   "pygments_lexer": "ipython3",
   "version": "3.9.9"
  },
  "orig_nbformat": 4
 },
 "nbformat": 4,
 "nbformat_minor": 2
}
