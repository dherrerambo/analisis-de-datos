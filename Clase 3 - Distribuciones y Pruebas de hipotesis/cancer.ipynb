{
 "cells": [
  {
   "cell_type": "markdown",
   "metadata": {},
   "source": [
    "# Analisis de datos de Cancer \n",
    "Me toco la columna numero 4, para el ejercicio sera la columna **Area (mean)**"
   ]
  },
  {
   "cell_type": "markdown",
   "metadata": {},
   "source": [
    "## Imports"
   ]
  },
  {
   "cell_type": "code",
   "execution_count": 1,
   "metadata": {},
   "outputs": [],
   "source": [
    "import pandas as pd\n",
    "import matplotlib.pyplot as plt\n",
    "import seaborn as sns\n",
    "\n",
    "import warnings"
   ]
  },
  {
   "cell_type": "code",
   "execution_count": 2,
   "metadata": {},
   "outputs": [],
   "source": [
    "## formatos\n",
    "warnings.filterwarnings(\"ignore\", category=FutureWarning)\n",
    "pd.set_option('display.max_columns', 500)\n",
    "pd.options.display.float_format = '{:,.2f}'.format\n",
    "\n",
    "# from IPython.display import Markdown as md\n",
    "# md(f\"## Estadisticas descriptivas para Benigno de la variable {var}\")"
   ]
  },
  {
   "cell_type": "markdown",
   "metadata": {},
   "source": [
    "## Load data"
   ]
  },
  {
   "cell_type": "markdown",
   "metadata": {},
   "source": [
    "### Benigno"
   ]
  },
  {
   "cell_type": "code",
   "execution_count": 3,
   "metadata": {},
   "outputs": [
    {
     "name": "stdout",
     "output_type": "stream",
     "text": [
      "shape B= (357, 32)\n",
      "{'Id': dtype('int64'), 'Diagnosis': dtype('O'), 'Radius (mean)': dtype('O'), 'Texture (mean)': dtype('float64'), 'Perimeter (mean)': dtype('float64'), 'Area (mean)': dtype('float64'), 'Smoothness (mean)': dtype('float64'), 'Compactness (mean)': dtype('float64'), 'Concavity (mean)': dtype('float64'), 'Concave points (mean)': dtype('float64'), 'Symmetry (mean)': dtype('float64'), 'Fractal dimension (mean)': dtype('float64'), 'Radius (se)': dtype('float64'), 'Texture (se)': dtype('O'), 'Perimeter (se)': dtype('O'), 'Area (se)': dtype('O'), 'Smoothness (se)': dtype('float64'), 'Compactness (se)': dtype('float64'), 'Concavity (se)': dtype('float64'), 'Concave points (se)': dtype('float64'), 'Symmetry (se)': dtype('float64'), 'Fractal dimension (se)': dtype('float64'), 'Radius (worst)': dtype('O'), 'Texture (worst)': dtype('float64'), 'Perimeter (worst)': dtype('float64'), 'Area (worst)': dtype('float64'), 'Smoothness (worst)': dtype('float64'), 'Compactness (worst)': dtype('float64'), 'Concavity (worst)': dtype('float64'), 'Concave points (worst)': dtype('float64'), 'Symmetry (worst)': dtype('float64'), 'Fractal dimension (worst)': dtype('float64')}\n"
     ]
    },
    {
     "data": {
      "text/html": [
       "<div>\n",
       "<style scoped>\n",
       "    .dataframe tbody tr th:only-of-type {\n",
       "        vertical-align: middle;\n",
       "    }\n",
       "\n",
       "    .dataframe tbody tr th {\n",
       "        vertical-align: top;\n",
       "    }\n",
       "\n",
       "    .dataframe thead th {\n",
       "        text-align: right;\n",
       "    }\n",
       "</style>\n",
       "<table border=\"1\" class=\"dataframe\">\n",
       "  <thead>\n",
       "    <tr style=\"text-align: right;\">\n",
       "      <th></th>\n",
       "      <th>Id</th>\n",
       "      <th>Diagnosis</th>\n",
       "      <th>Radius (mean)</th>\n",
       "      <th>Texture (mean)</th>\n",
       "      <th>Perimeter (mean)</th>\n",
       "      <th>Area (mean)</th>\n",
       "      <th>Smoothness (mean)</th>\n",
       "      <th>Compactness (mean)</th>\n",
       "      <th>Concavity (mean)</th>\n",
       "      <th>Concave points (mean)</th>\n",
       "      <th>Symmetry (mean)</th>\n",
       "      <th>Fractal dimension (mean)</th>\n",
       "      <th>Radius (se)</th>\n",
       "      <th>Texture (se)</th>\n",
       "      <th>Perimeter (se)</th>\n",
       "      <th>Area (se)</th>\n",
       "      <th>Smoothness (se)</th>\n",
       "      <th>Compactness (se)</th>\n",
       "      <th>Concavity (se)</th>\n",
       "      <th>Concave points (se)</th>\n",
       "      <th>Symmetry (se)</th>\n",
       "      <th>Fractal dimension (se)</th>\n",
       "      <th>Radius (worst)</th>\n",
       "      <th>Texture (worst)</th>\n",
       "      <th>Perimeter (worst)</th>\n",
       "      <th>Area (worst)</th>\n",
       "      <th>Smoothness (worst)</th>\n",
       "      <th>Compactness (worst)</th>\n",
       "      <th>Concavity (worst)</th>\n",
       "      <th>Concave points (worst)</th>\n",
       "      <th>Symmetry (worst)</th>\n",
       "      <th>Fractal dimension (worst)</th>\n",
       "    </tr>\n",
       "  </thead>\n",
       "  <tbody>\n",
       "    <tr>\n",
       "      <th>0</th>\n",
       "      <td>8510426</td>\n",
       "      <td>B</td>\n",
       "      <td>13.54</td>\n",
       "      <td>14.36</td>\n",
       "      <td>87.46</td>\n",
       "      <td>566.30</td>\n",
       "      <td>0.10</td>\n",
       "      <td>0.08</td>\n",
       "      <td>0.07</td>\n",
       "      <td>0.05</td>\n",
       "      <td>0.19</td>\n",
       "      <td>0.06</td>\n",
       "      <td>0.27</td>\n",
       "      <td>0.7886</td>\n",
       "      <td>20.580.000.000.000.000</td>\n",
       "      <td>23.56</td>\n",
       "      <td>0.01</td>\n",
       "      <td>0.01</td>\n",
       "      <td>0.02</td>\n",
       "      <td>0.01</td>\n",
       "      <td>0.02</td>\n",
       "      <td>0.00</td>\n",
       "      <td>15.11</td>\n",
       "      <td>19.26</td>\n",
       "      <td>99.70</td>\n",
       "      <td>711.20</td>\n",
       "      <td>0.14</td>\n",
       "      <td>0.18</td>\n",
       "      <td>0.24</td>\n",
       "      <td>0.13</td>\n",
       "      <td>0.30</td>\n",
       "      <td>0.07</td>\n",
       "    </tr>\n",
       "    <tr>\n",
       "      <th>1</th>\n",
       "      <td>8510653</td>\n",
       "      <td>B</td>\n",
       "      <td>13.08</td>\n",
       "      <td>15.71</td>\n",
       "      <td>85.63</td>\n",
       "      <td>520.00</td>\n",
       "      <td>0.11</td>\n",
       "      <td>0.13</td>\n",
       "      <td>0.05</td>\n",
       "      <td>0.03</td>\n",
       "      <td>0.20</td>\n",
       "      <td>0.07</td>\n",
       "      <td>0.19</td>\n",
       "      <td>0.7477</td>\n",
       "      <td>1.383</td>\n",
       "      <td>14.67</td>\n",
       "      <td>0.00</td>\n",
       "      <td>0.02</td>\n",
       "      <td>0.02</td>\n",
       "      <td>0.01</td>\n",
       "      <td>0.02</td>\n",
       "      <td>0.00</td>\n",
       "      <td>14.5</td>\n",
       "      <td>20.49</td>\n",
       "      <td>96.09</td>\n",
       "      <td>630.50</td>\n",
       "      <td>0.13</td>\n",
       "      <td>0.28</td>\n",
       "      <td>0.19</td>\n",
       "      <td>0.07</td>\n",
       "      <td>0.32</td>\n",
       "      <td>0.08</td>\n",
       "    </tr>\n",
       "    <tr>\n",
       "      <th>2</th>\n",
       "      <td>8510824</td>\n",
       "      <td>B</td>\n",
       "      <td>9.504</td>\n",
       "      <td>12.44</td>\n",
       "      <td>60.34</td>\n",
       "      <td>273.90</td>\n",
       "      <td>0.10</td>\n",
       "      <td>0.06</td>\n",
       "      <td>0.03</td>\n",
       "      <td>0.02</td>\n",
       "      <td>0.18</td>\n",
       "      <td>0.07</td>\n",
       "      <td>0.28</td>\n",
       "      <td>0.9768</td>\n",
       "      <td>1.909</td>\n",
       "      <td>15.7</td>\n",
       "      <td>0.01</td>\n",
       "      <td>0.01</td>\n",
       "      <td>0.02</td>\n",
       "      <td>0.01</td>\n",
       "      <td>0.02</td>\n",
       "      <td>0.00</td>\n",
       "      <td>10.23</td>\n",
       "      <td>15.66</td>\n",
       "      <td>65.13</td>\n",
       "      <td>314.90</td>\n",
       "      <td>0.13</td>\n",
       "      <td>0.11</td>\n",
       "      <td>0.09</td>\n",
       "      <td>0.06</td>\n",
       "      <td>0.24</td>\n",
       "      <td>0.08</td>\n",
       "    </tr>\n",
       "    <tr>\n",
       "      <th>3</th>\n",
       "      <td>854941</td>\n",
       "      <td>B</td>\n",
       "      <td>13.03</td>\n",
       "      <td>18.42</td>\n",
       "      <td>82.61</td>\n",
       "      <td>523.80</td>\n",
       "      <td>0.09</td>\n",
       "      <td>0.04</td>\n",
       "      <td>0.03</td>\n",
       "      <td>0.03</td>\n",
       "      <td>0.15</td>\n",
       "      <td>0.06</td>\n",
       "      <td>0.18</td>\n",
       "      <td>2.342</td>\n",
       "      <td>1.17</td>\n",
       "      <td>14.16</td>\n",
       "      <td>0.00</td>\n",
       "      <td>0.00</td>\n",
       "      <td>0.01</td>\n",
       "      <td>0.01</td>\n",
       "      <td>0.03</td>\n",
       "      <td>0.00</td>\n",
       "      <td>13.3</td>\n",
       "      <td>22.81</td>\n",
       "      <td>84.46</td>\n",
       "      <td>545.90</td>\n",
       "      <td>0.10</td>\n",
       "      <td>0.05</td>\n",
       "      <td>0.05</td>\n",
       "      <td>0.05</td>\n",
       "      <td>0.20</td>\n",
       "      <td>0.06</td>\n",
       "    </tr>\n",
       "    <tr>\n",
       "      <th>4</th>\n",
       "      <td>85713702</td>\n",
       "      <td>B</td>\n",
       "      <td>8.196</td>\n",
       "      <td>16.84</td>\n",
       "      <td>51.71</td>\n",
       "      <td>201.90</td>\n",
       "      <td>0.09</td>\n",
       "      <td>0.06</td>\n",
       "      <td>0.02</td>\n",
       "      <td>0.01</td>\n",
       "      <td>0.18</td>\n",
       "      <td>0.07</td>\n",
       "      <td>0.16</td>\n",
       "      <td>0.9567</td>\n",
       "      <td>1.094</td>\n",
       "      <td>8.205</td>\n",
       "      <td>0.01</td>\n",
       "      <td>0.02</td>\n",
       "      <td>0.02</td>\n",
       "      <td>0.01</td>\n",
       "      <td>0.03</td>\n",
       "      <td>0.00</td>\n",
       "      <td>8.964</td>\n",
       "      <td>21.96</td>\n",
       "      <td>57.26</td>\n",
       "      <td>242.20</td>\n",
       "      <td>0.13</td>\n",
       "      <td>0.14</td>\n",
       "      <td>0.07</td>\n",
       "      <td>0.03</td>\n",
       "      <td>0.31</td>\n",
       "      <td>0.07</td>\n",
       "    </tr>\n",
       "  </tbody>\n",
       "</table>\n",
       "</div>"
      ],
      "text/plain": [
       "         Id Diagnosis Radius (mean)  Texture (mean)  Perimeter (mean)  \\\n",
       "0   8510426         B         13.54           14.36             87.46   \n",
       "1   8510653         B         13.08           15.71             85.63   \n",
       "2   8510824         B         9.504           12.44             60.34   \n",
       "3    854941         B         13.03           18.42             82.61   \n",
       "4  85713702         B         8.196           16.84             51.71   \n",
       "\n",
       "   Area (mean)  Smoothness (mean)  Compactness (mean)  Concavity (mean)  \\\n",
       "0       566.30               0.10                0.08              0.07   \n",
       "1       520.00               0.11                0.13              0.05   \n",
       "2       273.90               0.10                0.06              0.03   \n",
       "3       523.80               0.09                0.04              0.03   \n",
       "4       201.90               0.09                0.06              0.02   \n",
       "\n",
       "   Concave points (mean)  Symmetry (mean)  Fractal dimension (mean)  \\\n",
       "0                   0.05             0.19                      0.06   \n",
       "1                   0.03             0.20                      0.07   \n",
       "2                   0.02             0.18                      0.07   \n",
       "3                   0.03             0.15                      0.06   \n",
       "4                   0.01             0.18                      0.07   \n",
       "\n",
       "   Radius (se) Texture (se)          Perimeter (se) Area (se)  \\\n",
       "0         0.27       0.7886  20.580.000.000.000.000     23.56   \n",
       "1         0.19       0.7477                   1.383     14.67   \n",
       "2         0.28       0.9768                   1.909      15.7   \n",
       "3         0.18        2.342                    1.17     14.16   \n",
       "4         0.16       0.9567                   1.094     8.205   \n",
       "\n",
       "   Smoothness (se)  Compactness (se)  Concavity (se)  Concave points (se)  \\\n",
       "0             0.01              0.01            0.02                 0.01   \n",
       "1             0.00              0.02            0.02                 0.01   \n",
       "2             0.01              0.01            0.02                 0.01   \n",
       "3             0.00              0.00            0.01                 0.01   \n",
       "4             0.01              0.02            0.02                 0.01   \n",
       "\n",
       "   Symmetry (se)  Fractal dimension (se) Radius (worst)  Texture (worst)  \\\n",
       "0           0.02                    0.00          15.11            19.26   \n",
       "1           0.02                    0.00           14.5            20.49   \n",
       "2           0.02                    0.00          10.23            15.66   \n",
       "3           0.03                    0.00           13.3            22.81   \n",
       "4           0.03                    0.00          8.964            21.96   \n",
       "\n",
       "   Perimeter (worst)  Area (worst)  Smoothness (worst)  Compactness (worst)  \\\n",
       "0              99.70        711.20                0.14                 0.18   \n",
       "1              96.09        630.50                0.13                 0.28   \n",
       "2              65.13        314.90                0.13                 0.11   \n",
       "3              84.46        545.90                0.10                 0.05   \n",
       "4              57.26        242.20                0.13                 0.14   \n",
       "\n",
       "   Concavity (worst)  Concave points (worst)  Symmetry (worst)  \\\n",
       "0               0.24                    0.13              0.30   \n",
       "1               0.19                    0.07              0.32   \n",
       "2               0.09                    0.06              0.24   \n",
       "3               0.05                    0.05              0.20   \n",
       "4               0.07                    0.03              0.31   \n",
       "\n",
       "   Fractal dimension (worst)  \n",
       "0                       0.07  \n",
       "1                       0.08  \n",
       "2                       0.08  \n",
       "3                       0.06  \n",
       "4                       0.07  "
      ]
     },
     "execution_count": 3,
     "metadata": {},
     "output_type": "execute_result"
    }
   ],
   "source": [
    "B = pd.read_csv('data\\cancer_b.csv',sep=';')\n",
    "print(\"shape B=\",B.shape)\n",
    "print(dict(B.dtypes))\n",
    "B.head()"
   ]
  },
  {
   "cell_type": "markdown",
   "metadata": {},
   "source": [
    "### Maligno"
   ]
  },
  {
   "cell_type": "code",
   "execution_count": 4,
   "metadata": {},
   "outputs": [
    {
     "name": "stdout",
     "output_type": "stream",
     "text": [
      "shape M= (212, 32)\n",
      "{'Id': dtype('int64'), 'Diagnosis': dtype('O'), 'Radius (mean)': dtype('float64'), 'Texture (mean)': dtype('float64'), 'Perimeter (mean)': dtype('float64'), 'Area (mean)': dtype('float64'), 'Smoothness (mean)': dtype('float64'), 'Compactness (mean)': dtype('float64'), 'Concavity (mean)': dtype('float64'), 'Concave points (mean)': dtype('float64'), 'Symmetry (mean)': dtype('float64'), 'Fractal dimension (mean)': dtype('float64'), 'Radius (se)': dtype('O'), 'Texture (se)': dtype('O'), 'Perimeter (se)': dtype('O'), 'Area (se)': dtype('float64'), 'Smoothness (se)': dtype('float64'), 'Compactness (se)': dtype('float64'), 'Concavity (se)': dtype('float64'), 'Concave points (se)': dtype('float64'), 'Symmetry (se)': dtype('float64'), 'Fractal dimension (se)': dtype('float64'), 'Radius (worst)': dtype('float64'), 'Texture (worst)': dtype('float64'), 'Perimeter (worst)': dtype('float64'), 'Area (worst)': dtype('float64'), 'Smoothness (worst)': dtype('float64'), 'Compactness (worst)': dtype('float64'), 'Concavity (worst)': dtype('float64'), 'Concave points (worst)': dtype('float64'), 'Symmetry (worst)': dtype('float64'), 'Fractal dimension (worst)': dtype('float64')}\n"
     ]
    },
    {
     "data": {
      "text/html": [
       "<div>\n",
       "<style scoped>\n",
       "    .dataframe tbody tr th:only-of-type {\n",
       "        vertical-align: middle;\n",
       "    }\n",
       "\n",
       "    .dataframe tbody tr th {\n",
       "        vertical-align: top;\n",
       "    }\n",
       "\n",
       "    .dataframe thead th {\n",
       "        text-align: right;\n",
       "    }\n",
       "</style>\n",
       "<table border=\"1\" class=\"dataframe\">\n",
       "  <thead>\n",
       "    <tr style=\"text-align: right;\">\n",
       "      <th></th>\n",
       "      <th>Id</th>\n",
       "      <th>Diagnosis</th>\n",
       "      <th>Radius (mean)</th>\n",
       "      <th>Texture (mean)</th>\n",
       "      <th>Perimeter (mean)</th>\n",
       "      <th>Area (mean)</th>\n",
       "      <th>Smoothness (mean)</th>\n",
       "      <th>Compactness (mean)</th>\n",
       "      <th>Concavity (mean)</th>\n",
       "      <th>Concave points (mean)</th>\n",
       "      <th>Symmetry (mean)</th>\n",
       "      <th>Fractal dimension (mean)</th>\n",
       "      <th>Radius (se)</th>\n",
       "      <th>Texture (se)</th>\n",
       "      <th>Perimeter (se)</th>\n",
       "      <th>Area (se)</th>\n",
       "      <th>Smoothness (se)</th>\n",
       "      <th>Compactness (se)</th>\n",
       "      <th>Concavity (se)</th>\n",
       "      <th>Concave points (se)</th>\n",
       "      <th>Symmetry (se)</th>\n",
       "      <th>Fractal dimension (se)</th>\n",
       "      <th>Radius (worst)</th>\n",
       "      <th>Texture (worst)</th>\n",
       "      <th>Perimeter (worst)</th>\n",
       "      <th>Area (worst)</th>\n",
       "      <th>Smoothness (worst)</th>\n",
       "      <th>Compactness (worst)</th>\n",
       "      <th>Concavity (worst)</th>\n",
       "      <th>Concave points (worst)</th>\n",
       "      <th>Symmetry (worst)</th>\n",
       "      <th>Fractal dimension (worst)</th>\n",
       "    </tr>\n",
       "  </thead>\n",
       "  <tbody>\n",
       "    <tr>\n",
       "      <th>0</th>\n",
       "      <td>842302</td>\n",
       "      <td>M</td>\n",
       "      <td>17.99</td>\n",
       "      <td>10.38</td>\n",
       "      <td>122.80</td>\n",
       "      <td>1,001.00</td>\n",
       "      <td>0.12</td>\n",
       "      <td>0.28</td>\n",
       "      <td>0.30</td>\n",
       "      <td>0.15</td>\n",
       "      <td>0.24</td>\n",
       "      <td>0.08</td>\n",
       "      <td>1.095</td>\n",
       "      <td>0.9053</td>\n",
       "      <td>8.589</td>\n",
       "      <td>153.40</td>\n",
       "      <td>0.01</td>\n",
       "      <td>0.05</td>\n",
       "      <td>0.05</td>\n",
       "      <td>0.02</td>\n",
       "      <td>0.03</td>\n",
       "      <td>0.01</td>\n",
       "      <td>25.38</td>\n",
       "      <td>17.33</td>\n",
       "      <td>184.60</td>\n",
       "      <td>2,019.00</td>\n",
       "      <td>0.16</td>\n",
       "      <td>0.67</td>\n",
       "      <td>0.71</td>\n",
       "      <td>0.27</td>\n",
       "      <td>0.46</td>\n",
       "      <td>0.12</td>\n",
       "    </tr>\n",
       "    <tr>\n",
       "      <th>1</th>\n",
       "      <td>842517</td>\n",
       "      <td>M</td>\n",
       "      <td>20.57</td>\n",
       "      <td>17.77</td>\n",
       "      <td>132.90</td>\n",
       "      <td>1,326.00</td>\n",
       "      <td>0.08</td>\n",
       "      <td>0.08</td>\n",
       "      <td>0.09</td>\n",
       "      <td>0.07</td>\n",
       "      <td>0.18</td>\n",
       "      <td>0.06</td>\n",
       "      <td>0.5435</td>\n",
       "      <td>0.7339</td>\n",
       "      <td>3.398</td>\n",
       "      <td>74.08</td>\n",
       "      <td>0.01</td>\n",
       "      <td>0.01</td>\n",
       "      <td>0.02</td>\n",
       "      <td>0.01</td>\n",
       "      <td>0.01</td>\n",
       "      <td>0.00</td>\n",
       "      <td>24.99</td>\n",
       "      <td>23.41</td>\n",
       "      <td>158.80</td>\n",
       "      <td>1,956.00</td>\n",
       "      <td>0.12</td>\n",
       "      <td>0.19</td>\n",
       "      <td>0.24</td>\n",
       "      <td>0.19</td>\n",
       "      <td>0.28</td>\n",
       "      <td>0.09</td>\n",
       "    </tr>\n",
       "    <tr>\n",
       "      <th>2</th>\n",
       "      <td>84300903</td>\n",
       "      <td>M</td>\n",
       "      <td>19.69</td>\n",
       "      <td>21.25</td>\n",
       "      <td>130.00</td>\n",
       "      <td>1,203.00</td>\n",
       "      <td>0.11</td>\n",
       "      <td>0.16</td>\n",
       "      <td>0.20</td>\n",
       "      <td>0.13</td>\n",
       "      <td>0.21</td>\n",
       "      <td>0.06</td>\n",
       "      <td>0.7456</td>\n",
       "      <td>0.7869</td>\n",
       "      <td>4.585</td>\n",
       "      <td>94.03</td>\n",
       "      <td>0.01</td>\n",
       "      <td>0.04</td>\n",
       "      <td>0.04</td>\n",
       "      <td>0.02</td>\n",
       "      <td>0.02</td>\n",
       "      <td>0.00</td>\n",
       "      <td>23.57</td>\n",
       "      <td>25.53</td>\n",
       "      <td>152.50</td>\n",
       "      <td>1,709.00</td>\n",
       "      <td>0.14</td>\n",
       "      <td>0.42</td>\n",
       "      <td>0.45</td>\n",
       "      <td>0.24</td>\n",
       "      <td>0.36</td>\n",
       "      <td>0.09</td>\n",
       "    </tr>\n",
       "    <tr>\n",
       "      <th>3</th>\n",
       "      <td>84348301</td>\n",
       "      <td>M</td>\n",
       "      <td>11.42</td>\n",
       "      <td>20.38</td>\n",
       "      <td>77.58</td>\n",
       "      <td>386.10</td>\n",
       "      <td>0.14</td>\n",
       "      <td>0.28</td>\n",
       "      <td>0.24</td>\n",
       "      <td>0.11</td>\n",
       "      <td>0.26</td>\n",
       "      <td>0.10</td>\n",
       "      <td>0.4956</td>\n",
       "      <td>1.156</td>\n",
       "      <td>3.445</td>\n",
       "      <td>27.23</td>\n",
       "      <td>0.01</td>\n",
       "      <td>0.07</td>\n",
       "      <td>0.06</td>\n",
       "      <td>0.02</td>\n",
       "      <td>0.06</td>\n",
       "      <td>0.01</td>\n",
       "      <td>14.91</td>\n",
       "      <td>26.50</td>\n",
       "      <td>98.87</td>\n",
       "      <td>567.70</td>\n",
       "      <td>0.21</td>\n",
       "      <td>0.87</td>\n",
       "      <td>0.69</td>\n",
       "      <td>0.26</td>\n",
       "      <td>0.66</td>\n",
       "      <td>0.17</td>\n",
       "    </tr>\n",
       "    <tr>\n",
       "      <th>4</th>\n",
       "      <td>84358402</td>\n",
       "      <td>M</td>\n",
       "      <td>20.29</td>\n",
       "      <td>14.34</td>\n",
       "      <td>135.10</td>\n",
       "      <td>1,297.00</td>\n",
       "      <td>0.10</td>\n",
       "      <td>0.13</td>\n",
       "      <td>0.20</td>\n",
       "      <td>0.10</td>\n",
       "      <td>0.18</td>\n",
       "      <td>0.06</td>\n",
       "      <td>0.7572</td>\n",
       "      <td>0.7813</td>\n",
       "      <td>5.438</td>\n",
       "      <td>94.44</td>\n",
       "      <td>0.01</td>\n",
       "      <td>0.02</td>\n",
       "      <td>0.06</td>\n",
       "      <td>0.02</td>\n",
       "      <td>0.02</td>\n",
       "      <td>0.01</td>\n",
       "      <td>22.54</td>\n",
       "      <td>16.67</td>\n",
       "      <td>152.20</td>\n",
       "      <td>1,575.00</td>\n",
       "      <td>0.14</td>\n",
       "      <td>0.20</td>\n",
       "      <td>0.40</td>\n",
       "      <td>0.16</td>\n",
       "      <td>0.24</td>\n",
       "      <td>0.08</td>\n",
       "    </tr>\n",
       "  </tbody>\n",
       "</table>\n",
       "</div>"
      ],
      "text/plain": [
       "         Id Diagnosis  Radius (mean)  Texture (mean)  Perimeter (mean)  \\\n",
       "0    842302         M          17.99           10.38            122.80   \n",
       "1    842517         M          20.57           17.77            132.90   \n",
       "2  84300903         M          19.69           21.25            130.00   \n",
       "3  84348301         M          11.42           20.38             77.58   \n",
       "4  84358402         M          20.29           14.34            135.10   \n",
       "\n",
       "   Area (mean)  Smoothness (mean)  Compactness (mean)  Concavity (mean)  \\\n",
       "0     1,001.00               0.12                0.28              0.30   \n",
       "1     1,326.00               0.08                0.08              0.09   \n",
       "2     1,203.00               0.11                0.16              0.20   \n",
       "3       386.10               0.14                0.28              0.24   \n",
       "4     1,297.00               0.10                0.13              0.20   \n",
       "\n",
       "   Concave points (mean)  Symmetry (mean)  Fractal dimension (mean)  \\\n",
       "0                   0.15             0.24                      0.08   \n",
       "1                   0.07             0.18                      0.06   \n",
       "2                   0.13             0.21                      0.06   \n",
       "3                   0.11             0.26                      0.10   \n",
       "4                   0.10             0.18                      0.06   \n",
       "\n",
       "  Radius (se) Texture (se) Perimeter (se)  Area (se)  Smoothness (se)  \\\n",
       "0       1.095       0.9053          8.589     153.40             0.01   \n",
       "1      0.5435       0.7339          3.398      74.08             0.01   \n",
       "2      0.7456       0.7869          4.585      94.03             0.01   \n",
       "3      0.4956        1.156          3.445      27.23             0.01   \n",
       "4      0.7572       0.7813          5.438      94.44             0.01   \n",
       "\n",
       "   Compactness (se)  Concavity (se)  Concave points (se)  Symmetry (se)  \\\n",
       "0              0.05            0.05                 0.02           0.03   \n",
       "1              0.01            0.02                 0.01           0.01   \n",
       "2              0.04            0.04                 0.02           0.02   \n",
       "3              0.07            0.06                 0.02           0.06   \n",
       "4              0.02            0.06                 0.02           0.02   \n",
       "\n",
       "   Fractal dimension (se)  Radius (worst)  Texture (worst)  Perimeter (worst)  \\\n",
       "0                    0.01           25.38            17.33             184.60   \n",
       "1                    0.00           24.99            23.41             158.80   \n",
       "2                    0.00           23.57            25.53             152.50   \n",
       "3                    0.01           14.91            26.50              98.87   \n",
       "4                    0.01           22.54            16.67             152.20   \n",
       "\n",
       "   Area (worst)  Smoothness (worst)  Compactness (worst)  Concavity (worst)  \\\n",
       "0      2,019.00                0.16                 0.67               0.71   \n",
       "1      1,956.00                0.12                 0.19               0.24   \n",
       "2      1,709.00                0.14                 0.42               0.45   \n",
       "3        567.70                0.21                 0.87               0.69   \n",
       "4      1,575.00                0.14                 0.20               0.40   \n",
       "\n",
       "   Concave points (worst)  Symmetry (worst)  Fractal dimension (worst)  \n",
       "0                    0.27              0.46                       0.12  \n",
       "1                    0.19              0.28                       0.09  \n",
       "2                    0.24              0.36                       0.09  \n",
       "3                    0.26              0.66                       0.17  \n",
       "4                    0.16              0.24                       0.08  "
      ]
     },
     "execution_count": 4,
     "metadata": {},
     "output_type": "execute_result"
    }
   ],
   "source": [
    "M = pd.read_csv('data\\cancer_m.csv',sep=';')\n",
    "print(\"shape M=\",M.shape)\n",
    "print(dict(M.dtypes))\n",
    "M.head()"
   ]
  },
  {
   "cell_type": "markdown",
   "metadata": {},
   "source": [
    "### Exploracion de DataFrames de Benignos y Malignos"
   ]
  },
  {
   "cell_type": "code",
   "execution_count": 5,
   "metadata": {},
   "outputs": [
    {
     "name": "stdout",
     "output_type": "stream",
     "text": [
      "Benigno=357, Maligno=212\n",
      "Columnas que estan en B que no estan en M: []\n",
      "Columnas que estan en M que no estan en B: []\n"
     ]
    }
   ],
   "source": [
    "print(f\"Benigno={len(B)}, Maligno={len(M)}\")\n",
    "print(\"Columnas que estan en B que no estan en M:\", [c for c in B if c not in M])\n",
    "print(\"Columnas que estan en M que no estan en B:\", [c for c in M if c not in B])"
   ]
  },
  {
   "cell_type": "markdown",
   "metadata": {},
   "source": [
    "### Estadisticas descriptivas para la columna: [**Area (mean)**]"
   ]
  },
  {
   "cell_type": "code",
   "execution_count": 6,
   "metadata": {},
   "outputs": [],
   "source": [
    "var = \"Area (mean)\"\n",
    "B_var = B[var]\n",
    "B_var.name = \"Benigno\"\n",
    "M_var = M[var]\n",
    "M_var.name = \"Maligno\""
   ]
  },
  {
   "cell_type": "code",
   "execution_count": 7,
   "metadata": {},
   "outputs": [
    {
     "name": "stdout",
     "output_type": "stream",
     "text": [
      "Estadisticas para [Area (mean)]:\n"
     ]
    },
    {
     "data": {
      "text/html": [
       "<div>\n",
       "<style scoped>\n",
       "    .dataframe tbody tr th:only-of-type {\n",
       "        vertical-align: middle;\n",
       "    }\n",
       "\n",
       "    .dataframe tbody tr th {\n",
       "        vertical-align: top;\n",
       "    }\n",
       "\n",
       "    .dataframe thead th {\n",
       "        text-align: right;\n",
       "    }\n",
       "</style>\n",
       "<table border=\"1\" class=\"dataframe\">\n",
       "  <thead>\n",
       "    <tr style=\"text-align: right;\">\n",
       "      <th></th>\n",
       "      <th>count</th>\n",
       "      <th>mean</th>\n",
       "      <th>std</th>\n",
       "      <th>min</th>\n",
       "      <th>25%</th>\n",
       "      <th>50%</th>\n",
       "      <th>75%</th>\n",
       "      <th>max</th>\n",
       "    </tr>\n",
       "  </thead>\n",
       "  <tbody>\n",
       "    <tr>\n",
       "      <th>Benigno</th>\n",
       "      <td>357.00</td>\n",
       "      <td>462.79</td>\n",
       "      <td>134.29</td>\n",
       "      <td>143.50</td>\n",
       "      <td>378.20</td>\n",
       "      <td>458.40</td>\n",
       "      <td>551.10</td>\n",
       "      <td>992.10</td>\n",
       "    </tr>\n",
       "    <tr>\n",
       "      <th>Maligno</th>\n",
       "      <td>212.00</td>\n",
       "      <td>978.38</td>\n",
       "      <td>367.94</td>\n",
       "      <td>361.60</td>\n",
       "      <td>705.30</td>\n",
       "      <td>932.00</td>\n",
       "      <td>1,203.75</td>\n",
       "      <td>2,501.00</td>\n",
       "    </tr>\n",
       "  </tbody>\n",
       "</table>\n",
       "</div>"
      ],
      "text/plain": [
       "         count   mean    std    min    25%    50%      75%      max\n",
       "Benigno 357.00 462.79 134.29 143.50 378.20 458.40   551.10   992.10\n",
       "Maligno 212.00 978.38 367.94 361.60 705.30 932.00 1,203.75 2,501.00"
      ]
     },
     "execution_count": 7,
     "metadata": {},
     "output_type": "execute_result"
    }
   ],
   "source": [
    "estadisticas = pd.concat([B_var.describe(), M_var.describe()], axis=1)\n",
    "estadisticas.columns = [\"Benigno\",\"Maligno\"]\n",
    "estadisticas = estadisticas.T\n",
    "print(f\"Estadisticas para [{var}]:\")\n",
    "estadisticas"
   ]
  },
  {
   "cell_type": "markdown",
   "metadata": {},
   "source": [
    "## Graficas y distribuciones"
   ]
  },
  {
   "cell_type": "code",
   "execution_count": 33,
   "metadata": {},
   "outputs": [
    {
     "data": {
      "image/png": "[encoded data removed]",
      "text/plain": [
       "<Figure size 1440x360 with 2 Axes>"
      ]
     },
     "metadata": {
      "needs_background": "light"
     },
     "output_type": "display_data"
    },
    {
     "name": "stderr",
     "output_type": "stream",
     "text": [
      "C:\\Python\\py39\\lib\\site-packages\\scipy\\stats\\_continuous_distns.py:4858: IntegrationWarning: The integral is probably divergent, or slowly convergent.\n",
      "  intg = integrate.quad(f, -xi, np.pi/2, **intg_kwargs)[0]\n"
     ]
    }
   ],
   "source": [
    "fig, axes = plt.subplots(1, 2, figsize=(20, 5))\n",
    "sns.distplot(a=B_var, kde=True, ax=axes[0]).set(xlabel=None)\n",
    "axes[0].set_title(\"Benigno\")\n",
    "sns.distplot(a=M_var, kde=True, ax=axes[1])\n",
    "axes[1].set_title(\"Maligno\")\n",
    "plt.show()"
   ]
  },
  {
   "cell_type": "code",
   "execution_count": 10,
   "metadata": {},
   "outputs": [
    {
     "data": {
      "image/png": "[encoded data removed]",
      "text/plain": [
       "<Figure size 1440x432 with 1 Axes>"
      ]
     },
     "metadata": {
      "needs_background": "light"
     },
     "output_type": "display_data"
    }
   ],
   "source": [
    "plt.figure(figsize=(20,6))\n",
    "sns.distplot(a=B_var, label=\"Benigno\", kde=True);\n",
    "sns.distplot(a=M_var, label=\"Maligno\", kde=True);\n",
    "plt.title(f\"Distribucion de {var} para Benigno y Maligno\")\n",
    "plt.legend()\n",
    "plt.show()"
   ]
  },
  {
   "cell_type": "code",
   "execution_count": 11,
   "metadata": {},
   "outputs": [
    {
     "data": {
      "image/png": "[encoded data removed]",
      "text/plain": [
       "<Figure size 1440x360 with 2 Axes>"
      ]
     },
     "metadata": {
      "needs_background": "light"
     },
     "output_type": "display_data"
    }
   ],
   "source": [
    "fig, axes = plt.subplots(2, 1, figsize=(20, 5), sharex=True)\n",
    "sns.boxplot(B_var, ax=axes[0]).set(xlabel=None)\n",
    "axes[0].set_title(\"Benigno\")\n",
    "sns.boxplot(M_var, ax=axes[1])\n",
    "axes[1].set_title(\"Maligno\")\n",
    "fig.suptitle('Comparacion de celulas Benignas vs Malignas')\n",
    "plt.show()"
   ]
  },
  {
   "cell_type": "code",
   "execution_count": 12,
   "metadata": {},
   "outputs": [
    {
     "data": {
      "image/png": "[encoded data removed]",
      "text/plain": [
       "<Figure size 576x576 with 3 Axes>"
      ]
     },
     "metadata": {
      "needs_background": "light"
     },
     "output_type": "display_data"
    }
   ],
   "source": [
    "sns.jointplot(x=B_var, y=M_var, kind=\"kde\", height=8);\n",
    "plt.show()"
   ]
  },
  {
   "cell_type": "markdown",
   "metadata": {},
   "source": [
    "# Distribuciones"
   ]
  },
  {
   "cell_type": "code",
   "execution_count": 17,
   "metadata": {},
   "outputs": [],
   "source": [
    "from fitter import Fitter, get_common_distributions, get_distributions"
   ]
  },
  {
   "cell_type": "markdown",
   "metadata": {},
   "source": [
    "Se valora por la suma de errores cuadrados"
   ]
  },
  {
   "cell_type": "code",
   "execution_count": 18,
   "metadata": {},
   "outputs": [
    {
     "name": "stderr",
     "output_type": "stream",
     "text": [
      "WARNING:root:SKIPPED kstwo distribution (taking more than 30 seconds)\n",
      "WARNING:root:SKIPPED johnsonsu distribution (taking more than 30 seconds)\n",
      "WARNING:root:SKIPPED kappa4 distribution (taking more than 30 seconds)\n",
      "WARNING:root:SKIPPED levy_stable distribution (taking more than 30 seconds)\n",
      "WARNING:root:SKIPPED rv_continuous distribution (taking more than 30 seconds)\n",
      "WARNING:root:SKIPPED rv_histogram distribution (taking more than 30 seconds)\n",
      "WARNING:root:SKIPPED nct distribution (taking more than 30 seconds)\n",
      "WARNING:root:SKIPPED ncx2 distribution (taking more than 30 seconds)\n",
      "WARNING:root:SKIPPED powerlognorm distribution (taking more than 30 seconds)\n",
      "WARNING:root:SKIPPED recipinvgauss distribution (taking more than 30 seconds)\n",
      "WARNING:root:SKIPPED studentized_range distribution (taking more than 30 seconds)\n",
      "WARNING:root:SKIPPED vonmises distribution (taking more than 30 seconds)\n",
      "WARNING:root:SKIPPED vonmises_line distribution (taking more than 30 seconds)\n"
     ]
    },
    {
     "name": "stdout",
     "output_type": "stream",
     "text": [
      "{'burr12': {'c': 4.495908585969973, 'd': 3.3033134350399966, 'loc': -0.34514341506750335, 'scale': 633.5192555368203}}\n"
     ]
    },
    {
     "data": {
      "text/html": [
       "<div>\n",
       "<style scoped>\n",
       "    .dataframe tbody tr th:only-of-type {\n",
       "        vertical-align: middle;\n",
       "    }\n",
       "\n",
       "    .dataframe tbody tr th {\n",
       "        vertical-align: top;\n",
       "    }\n",
       "\n",
       "    .dataframe thead th {\n",
       "        text-align: right;\n",
       "    }\n",
       "</style>\n",
       "<table border=\"1\" class=\"dataframe\">\n",
       "  <thead>\n",
       "    <tr style=\"text-align: right;\">\n",
       "      <th></th>\n",
       "      <th>sumsquare_error</th>\n",
       "      <th>aic</th>\n",
       "      <th>bic</th>\n",
       "      <th>kl_div</th>\n",
       "    </tr>\n",
       "  </thead>\n",
       "  <tbody>\n",
       "    <tr>\n",
       "      <th>burr12</th>\n",
       "      <td>0.00</td>\n",
       "      <td>1,521.71</td>\n",
       "      <td>-5,737.48</td>\n",
       "      <td>inf</td>\n",
       "    </tr>\n",
       "    <tr>\n",
       "      <th>exponnorm</th>\n",
       "      <td>0.00</td>\n",
       "      <td>1,520.30</td>\n",
       "      <td>-5,741.36</td>\n",
       "      <td>inf</td>\n",
       "    </tr>\n",
       "    <tr>\n",
       "      <th>crystalball</th>\n",
       "      <td>0.00</td>\n",
       "      <td>1,552.13</td>\n",
       "      <td>-5,734.77</td>\n",
       "      <td>inf</td>\n",
       "    </tr>\n",
       "    <tr>\n",
       "      <th>gennorm</th>\n",
       "      <td>0.00</td>\n",
       "      <td>1,556.66</td>\n",
       "      <td>-5,740.20</td>\n",
       "      <td>inf</td>\n",
       "    </tr>\n",
       "    <tr>\n",
       "      <th>skewnorm</th>\n",
       "      <td>0.00</td>\n",
       "      <td>1,524.58</td>\n",
       "      <td>-5,739.90</td>\n",
       "      <td>inf</td>\n",
       "    </tr>\n",
       "  </tbody>\n",
       "</table>\n",
       "</div>"
      ],
      "text/plain": [
       "             sumsquare_error      aic       bic  kl_div\n",
       "burr12                  0.00 1,521.71 -5,737.48     inf\n",
       "exponnorm               0.00 1,520.30 -5,741.36     inf\n",
       "crystalball             0.00 1,552.13 -5,734.77     inf\n",
       "gennorm                 0.00 1,556.66 -5,740.20     inf\n",
       "skewnorm                0.00 1,524.58 -5,739.90     inf"
      ]
     },
     "execution_count": 18,
     "metadata": {},
     "output_type": "execute_result"
    },
    {
     "name": "stderr",
     "output_type": "stream",
     "text": [
      "C:\\Python\\py39\\lib\\site-packages\\scipy\\integrate\\_quadpack_py.py:879: IntegrationWarning: The maximum number of subdivisions (50) has been achieved.\n",
      "  If increasing the limit yields no improvement it is advised to analyze \n",
      "  the integrand in order to determine the difficulties.  If the position of a \n",
      "  local difficulty can be determined (singularity, discontinuity) one will \n",
      "  probably gain from splitting up the interval and calling the integrator \n",
      "  on the subranges.  Perhaps a special-purpose integrator should be used.\n",
      "  quad_r = quad(f, low, high, args=args, full_output=self.full_output,\n"
     ]
    },
    {
     "data": {
      "image/png": "[encoded data removed]",
      "text/plain": [
       "<Figure size 432x288 with 1 Axes>"
      ]
     },
     "metadata": {
      "needs_background": "light"
     },
     "output_type": "display_data"
    }
   ],
   "source": [
    "b = Fitter(B_var)\n",
    "b.fit()\n",
    "print(b.get_best(method = 'sumsquare_error'))\n",
    "b.summary()"
   ]
  },
  {
   "cell_type": "code",
   "execution_count": 19,
   "metadata": {},
   "outputs": [
    {
     "name": "stderr",
     "output_type": "stream",
     "text": [
      "C:\\Python\\py39\\lib\\site-packages\\scipy\\integrate\\_quadpack_py.py:879: IntegrationWarning: The integral is probably divergent, or slowly convergent.\n",
      "  quad_r = quad(f, low, high, args=args, full_output=self.full_output,\n",
      "WARNING:root:SKIPPED burr distribution (taking more than 30 seconds)\n",
      "WARNING:root:SKIPPED crystalball distribution (taking more than 30 seconds)\n",
      "WARNING:root:SKIPPED kstwo distribution (taking more than 30 seconds)\n",
      "WARNING:root:SKIPPED genexpon distribution (taking more than 30 seconds)\n",
      "WARNING:root:SKIPPED kappa4 distribution (taking more than 30 seconds)\n",
      "WARNING:root:SKIPPED levy_stable distribution (taking more than 30 seconds)\n",
      "WARNING:root:SKIPPED rv_continuous distribution (taking more than 30 seconds)\n",
      "WARNING:root:SKIPPED rv_histogram distribution (taking more than 30 seconds)\n",
      "WARNING:root:SKIPPED ncx2 distribution (taking more than 30 seconds)\n",
      "WARNING:root:SKIPPED recipinvgauss distribution (taking more than 30 seconds)\n",
      "WARNING:root:SKIPPED studentized_range distribution (taking more than 30 seconds)\n",
      "WARNING:root:SKIPPED triang distribution (taking more than 30 seconds)\n",
      "WARNING:root:SKIPPED vonmises distribution (taking more than 30 seconds)\n",
      "WARNING:root:SKIPPED vonmises_line distribution (taking more than 30 seconds)\n"
     ]
    },
    {
     "name": "stdout",
     "output_type": "stream",
     "text": [
      "{'dgamma': {'a': 1.6202513910209115, 'loc': 879.9870806596036, 'scale': 178.605361939611}}\n"
     ]
    },
    {
     "data": {
      "text/html": [
       "<div>\n",
       "<style scoped>\n",
       "    .dataframe tbody tr th:only-of-type {\n",
       "        vertical-align: middle;\n",
       "    }\n",
       "\n",
       "    .dataframe tbody tr th {\n",
       "        vertical-align: top;\n",
       "    }\n",
       "\n",
       "    .dataframe thead th {\n",
       "        text-align: right;\n",
       "    }\n",
       "</style>\n",
       "<table border=\"1\" class=\"dataframe\">\n",
       "  <thead>\n",
       "    <tr style=\"text-align: right;\">\n",
       "      <th></th>\n",
       "      <th>sumsquare_error</th>\n",
       "      <th>aic</th>\n",
       "      <th>bic</th>\n",
       "      <th>kl_div</th>\n",
       "    </tr>\n",
       "  </thead>\n",
       "  <tbody>\n",
       "    <tr>\n",
       "      <th>dgamma</th>\n",
       "      <td>0.00</td>\n",
       "      <td>1,801.90</td>\n",
       "      <td>-3,584.17</td>\n",
       "      <td>inf</td>\n",
       "    </tr>\n",
       "    <tr>\n",
       "      <th>skewnorm</th>\n",
       "      <td>0.00</td>\n",
       "      <td>1,701.78</td>\n",
       "      <td>-3,574.58</td>\n",
       "      <td>inf</td>\n",
       "    </tr>\n",
       "    <tr>\n",
       "      <th>nakagami</th>\n",
       "      <td>0.00</td>\n",
       "      <td>1,715.37</td>\n",
       "      <td>-3,573.22</td>\n",
       "      <td>inf</td>\n",
       "    </tr>\n",
       "    <tr>\n",
       "      <th>rayleigh</th>\n",
       "      <td>0.00</td>\n",
       "      <td>1,730.58</td>\n",
       "      <td>-3,578.27</td>\n",
       "      <td>inf</td>\n",
       "    </tr>\n",
       "    <tr>\n",
       "      <th>rice</th>\n",
       "      <td>0.00</td>\n",
       "      <td>1,732.58</td>\n",
       "      <td>-3,572.92</td>\n",
       "      <td>inf</td>\n",
       "    </tr>\n",
       "  </tbody>\n",
       "</table>\n",
       "</div>"
      ],
      "text/plain": [
       "          sumsquare_error      aic       bic  kl_div\n",
       "dgamma               0.00 1,801.90 -3,584.17     inf\n",
       "skewnorm             0.00 1,701.78 -3,574.58     inf\n",
       "nakagami             0.00 1,715.37 -3,573.22     inf\n",
       "rayleigh             0.00 1,730.58 -3,578.27     inf\n",
       "rice                 0.00 1,732.58 -3,572.92     inf"
      ]
     },
     "execution_count": 19,
     "metadata": {},
     "output_type": "execute_result"
    },
    {
     "name": "stderr",
     "output_type": "stream",
     "text": [
      "C:\\Python\\py39\\lib\\site-packages\\scipy\\integrate\\_quadpack_py.py:879: IntegrationWarning: The maximum number of subdivisions (50) has been achieved.\n",
      "  If increasing the limit yields no improvement it is advised to analyze \n",
      "  the integrand in order to determine the difficulties.  If the position of a \n",
      "  local difficulty can be determined (singularity, discontinuity) one will \n",
      "  probably gain from splitting up the interval and calling the integrator \n",
      "  on the subranges.  Perhaps a special-purpose integrator should be used.\n",
      "  quad_r = quad(f, low, high, args=args, full_output=self.full_output,\n",
      "C:\\Python\\py39\\lib\\site-packages\\scipy\\integrate\\_quadpack_py.py:879: IntegrationWarning: The integral is probably divergent, or slowly convergent.\n",
      "  quad_r = quad(f, low, high, args=args, full_output=self.full_output,\n"
     ]
    },
    {
     "data": {
      "image/png": "[encoded data removed]",
      "text/plain": [
       "<Figure size 432x288 with 1 Axes>"
      ]
     },
     "metadata": {
      "needs_background": "light"
     },
     "output_type": "display_data"
    }
   ],
   "source": [
    "m = Fitter(M_var)\n",
    "m.fit()\n",
    "print(m.get_best(method = 'sumsquare_error'))\n",
    "m.summary()"
   ]
  },
  {
   "cell_type": "markdown",
   "metadata": {},
   "source": [
    "# Pruebas de hipotesis\n",
    "https://towardsdatascience.com/hypothesis-testing-with-python-step-by-step-hands-on-tutorial-with-practical-examples-e805975ea96e?gi=c92c14d24b9\n",
    "\n",
    "\n",
    "Hipotesis:\n",
    "* H₀: μ=x, H₁: μ≠x\n",
    "* H₀: μ≤x, H₁: μ>x\n",
    "* H₀: μ≥x, H₁: μ<x\n",
    "\n",
    "Por lo tanto lo que se quiere probar se coloca en la hipotesis Alternativa, o lo contrario de lo que se ve en la grafica, por lo tanto:\n",
    "\n",
    "* H₀: Las medias de las celulas Malignas son menor o igual Benignas ( Um <= Ub )\n",
    "* H₁: Las medias de las celulas Malignas son mayores que Benignas   ( Um > Ub  )\n",
    "\n",
    "\n",
    "Se siguen los siguientes criterios:\n",
    "\n",
    "<img src=\"data\\criterios_para_evaluar_hypotesis.png\">"
   ]
  },
  {
   "cell_type": "markdown",
   "metadata": {},
   "source": [
    "## t-test (Pruena parametrica)"
   ]
  },
  {
   "cell_type": "markdown",
   "metadata": {},
   "source": [
    "### Primero se valida normalidad de la informacion\n",
    "\n",
    "* H₀: The data is normally distributed.\n",
    "* H₁: The data is not normally distributed.\n",
    "\n",
    "Assume that α=0.05. If the p-value is >0.05, it can be said that data is normally distributed."
   ]
  },
  {
   "cell_type": "code",
   "execution_count": 20,
   "metadata": {},
   "outputs": [],
   "source": [
    "from scipy import stats"
   ]
  },
  {
   "cell_type": "markdown",
   "metadata": {},
   "source": [
    "#### test de normalidad (Shapiro)"
   ]
  },
  {
   "cell_type": "code",
   "execution_count": 21,
   "metadata": {},
   "outputs": [],
   "source": [
    "def check_normality(data):\n",
    "    test_stat_normality, p_value_normality=stats.shapiro(data)\n",
    "    print(\"p value:%.4f\" % p_value_normality)\n",
    "    if p_value_normality <0.05:\n",
    "        print(\"Reject null hypothesis >> The data is not normally distributed\")\n",
    "    else:\n",
    "        print(\"Fail to reject null hypothesis >> The data is normally distributed\")"
   ]
  },
  {
   "cell_type": "code",
   "execution_count": 22,
   "metadata": {},
   "outputs": [
    {
     "name": "stdout",
     "output_type": "stream",
     "text": [
      "p value:0.0228\n",
      "Reject null hypothesis >> The data is not normally distributed\n"
     ]
    }
   ],
   "source": [
    "check_normality(B_var)"
   ]
  },
  {
   "cell_type": "code",
   "execution_count": 23,
   "metadata": {},
   "outputs": [
    {
     "name": "stdout",
     "output_type": "stream",
     "text": [
      "p value:0.0000\n",
      "Reject null hypothesis >> The data is not normally distributed\n"
     ]
    }
   ],
   "source": [
    "check_normality(M_var)"
   ]
  },
  {
   "cell_type": "markdown",
   "metadata": {},
   "source": [
    "#### test de varianza\n",
    "Como **NO** es normal no se puede usar la t-student, igualmente aplicamos para validar"
   ]
  },
  {
   "cell_type": "code",
   "execution_count": 24,
   "metadata": {},
   "outputs": [],
   "source": [
    "def check_variance_homogeneity(group1, group2):\n",
    "    test_stat_var, p_value_var= stats.levene(group1,group2)\n",
    "    print(\"p value:%.4f\" % p_value_var)\n",
    "    if p_value_var <0.05:\n",
    "        print(\"Reject null hypothesis >> The variances of the samples are different.\")\n",
    "    else:\n",
    "        print(\"Fail to reject null hypothesis >> The variances of the samples are same.\")"
   ]
  },
  {
   "cell_type": "markdown",
   "metadata": {},
   "source": [
    "* H₀: The variances of the samples are the same.\n",
    "* H₁: The variances of the samples are different."
   ]
  },
  {
   "cell_type": "code",
   "execution_count": 25,
   "metadata": {},
   "outputs": [
    {
     "name": "stdout",
     "output_type": "stream",
     "text": [
      "p value:0.0000\n",
      "Reject null hypothesis >> The variances of the samples are different.\n"
     ]
    }
   ],
   "source": [
    "check_variance_homogeneity(B_var, M_var)"
   ]
  },
  {
   "cell_type": "markdown",
   "metadata": {},
   "source": [
    "#### Test definitivo\n",
    "t-test indepencia se valida contra:\n",
    "\n",
    "* H₀: Las medias de las celulas Malignas son menor o igual Benignas ( Um <= Ub )\n",
    "* H₁: Las medias de las celulas Malignas son mayores que Benignas   ( Um > Ub  )"
   ]
  },
  {
   "cell_type": "code",
   "execution_count": 26,
   "metadata": {},
   "outputs": [],
   "source": [
    "def check_ttest(group1,group2):\n",
    "    ttest,p_value = stats.ttest_ind(group1,group2) ## se aplica la t-student\n",
    "\n",
    "    print(\"p value:%.8f\" % p_value)\n",
    "    print(\"since the hypothesis is one sided >> use p_value/2 >> p_value_one_sided:%.4f\" %(p_value/2))\n",
    "    if p_value/2 <0.05:\n",
    "        print(\"Reject null hypothesis\")\n",
    "    else:\n",
    "        print(\"Fail to reject null hypothesis\")"
   ]
  },
  {
   "cell_type": "code",
   "execution_count": 27,
   "metadata": {},
   "outputs": [
    {
     "name": "stdout",
     "output_type": "stream",
     "text": [
      "p value:0.00000000\n",
      "since the hypothesis is one sided >> use p_value/2 >> p_value_one_sided:0.0000\n",
      "Reject null hypothesis\n"
     ]
    }
   ],
   "source": [
    "check_ttest(B_var,M_var)"
   ]
  },
  {
   "cell_type": "code",
   "execution_count": 28,
   "metadata": {},
   "outputs": [
    {
     "name": "stdout",
     "output_type": "stream",
     "text": [
      "Se esta cometiendo un error.\n",
      "Ya que la media del Area (mean) para celulas Benignas es menor que las Malignas\n"
     ]
    }
   ],
   "source": [
    "print(f\"Se esta cometiendo un error.\\nYa que la media del {var} para celulas Benignas es menor que las Malignas\")"
   ]
  },
  {
   "cell_type": "markdown",
   "metadata": {},
   "source": [
    "## Prueba No Parametrica"
   ]
  },
  {
   "cell_type": "code",
   "execution_count": 29,
   "metadata": {},
   "outputs": [],
   "source": [
    "def test_mannwhitneyu(group1,group2):\n",
    "    ttest,pvalue = stats.mannwhitneyu(group1,group2, alternative=\"two-sided\")\n",
    "    print(\"p-value:%.4f\" % pvalue)\n",
    "    if pvalue <0.05:\n",
    "        print(\"Reject null hypothesis\")\n",
    "    else:\n",
    "        print(\"Fail to recejt null hypothesis\")"
   ]
  },
  {
   "cell_type": "code",
   "execution_count": 30,
   "metadata": {},
   "outputs": [
    {
     "name": "stdout",
     "output_type": "stream",
     "text": [
      "p-value:0.0000\n",
      "Reject null hypothesis\n"
     ]
    },
    {
     "name": "stderr",
     "output_type": "stream",
     "text": [
      "C:\\Python\\py39\\lib\\site-packages\\scipy\\stats\\_continuous_distns.py:4858: IntegrationWarning: The integral is probably divergent, or slowly convergent.\n",
      "  intg = integrate.quad(f, -xi, np.pi/2, **intg_kwargs)[0]\n"
     ]
    }
   ],
   "source": [
    "test_mannwhitneyu(B_var,M_var)"
   ]
  },
  {
   "cell_type": "markdown",
   "metadata": {},
   "source": [
    "* H₀: Las medias de las celulas Malignas son menor o igual Benignas ( Um <= Ub )\n",
    "* **H₁: Las medias de las celulas Malignas son mayores que Benignas   ( Um > Ub  )**"
   ]
  },
  {
   "cell_type": "markdown",
   "metadata": {},
   "source": [
    "# Respuesta\n",
    "por lo tanto rechazamos la hipotesis nula."
   ]
  }
 ],
 "metadata": {
  "interpreter": {
   "hash": "a7d9b4020407e9a5c7264449464d934ff5c5da758a1b12d2b58037603fa1901d"
  },
  "kernelspec": {
   "display_name": "Python 3.9.9 64-bit",
   "language": "python",
   "name": "python3"
  },
  "language_info": {
   "codemirror_mode": {
    "name": "ipython",
    "version": 3
   },
   "file_extension": ".py",
   "mimetype": "text/x-python",
   "name": "python",
   "nbconvert_exporter": "python",
   "pygments_lexer": "ipython3",
   "version": "3.9.9"
  },
  "orig_nbformat": 4
 },
 "nbformat": 4,
 "nbformat_minor": 2
}
